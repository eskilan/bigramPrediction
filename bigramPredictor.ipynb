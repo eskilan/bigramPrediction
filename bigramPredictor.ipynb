{
 "cells": [
  {
   "cell_type": "markdown",
   "metadata": {},
   "source": [
    "Importing libraries: pandas and nltk (natural language toolkit). Tokenize is used to split text into words. Matplotlib for plotting."
   ]
  },
  {
   "cell_type": "code",
   "execution_count": 22,
   "metadata": {},
   "outputs": [],
   "source": [
    "import pandas as pd\n",
    "import nltk\n",
    "import matplotlib.pyplot as plt\n",
    "from nltk import tokenize"
   ]
  },
  {
   "cell_type": "code",
   "execution_count": 23,
   "metadata": {},
   "outputs": [],
   "source": [
    "smsDF = pd.read_csv('textMessageCorpus.csv',delimiter='\\t')"
   ]
  },
  {
   "cell_type": "markdown",
   "metadata": {},
   "source": [
    "Let's take a look at the data:"
   ]
  },
  {
   "cell_type": "code",
   "execution_count": 24,
   "metadata": {
    "scrolled": true
   },
   "outputs": [
    {
     "data": {
      "text/html": [
       "<div>\n",
       "<style scoped>\n",
       "    .dataframe tbody tr th:only-of-type {\n",
       "        vertical-align: middle;\n",
       "    }\n",
       "\n",
       "    .dataframe tbody tr th {\n",
       "        vertical-align: top;\n",
       "    }\n",
       "\n",
       "    .dataframe thead th {\n",
       "        text-align: right;\n",
       "    }\n",
       "</style>\n",
       "<table border=\"1\" class=\"dataframe\">\n",
       "  <thead>\n",
       "    <tr style=\"text-align: right;\">\n",
       "      <th></th>\n",
       "      <th>class</th>\n",
       "      <th>subscriber</th>\n",
       "      <th>message_body</th>\n",
       "      <th>timestamp</th>\n",
       "      <th>type</th>\n",
       "    </tr>\n",
       "  </thead>\n",
       "  <tbody>\n",
       "    <tr>\n",
       "      <th>0</th>\n",
       "      <td>0</td>\n",
       "      <td>1</td>\n",
       "      <td>Hey sir I have a question on software I am doi...</td>\n",
       "      <td>4/4/11 14:40</td>\n",
       "      <td>Incoming</td>\n",
       "    </tr>\n",
       "    <tr>\n",
       "      <th>1</th>\n",
       "      <td>0</td>\n",
       "      <td>1</td>\n",
       "      <td>s the same guys name as the first but it will ...</td>\n",
       "      <td>4/4/11 14:40</td>\n",
       "      <td>Incoming</td>\n",
       "    </tr>\n",
       "    <tr>\n",
       "      <th>2</th>\n",
       "      <td>0</td>\n",
       "      <td>1</td>\n",
       "      <td>thing that I have to do to allow me to do it</td>\n",
       "      <td>4/4/11 14:40</td>\n",
       "      <td>Incoming</td>\n",
       "    </tr>\n",
       "    <tr>\n",
       "      <th>3</th>\n",
       "      <td>0</td>\n",
       "      <td>1</td>\n",
       "      <td>The identity field must be unique, but you can...</td>\n",
       "      <td>4/4/11 14:41</td>\n",
       "      <td>Outgoing</td>\n",
       "    </tr>\n",
       "    <tr>\n",
       "      <th>4</th>\n",
       "      <td>0</td>\n",
       "      <td>1</td>\n",
       "      <td>Ok thank u sir</td>\n",
       "      <td>4/4/11 14:42</td>\n",
       "      <td>Incoming</td>\n",
       "    </tr>\n",
       "  </tbody>\n",
       "</table>\n",
       "</div>"
      ],
      "text/plain": [
       "   class  subscriber                                       message_body  \\\n",
       "0      0           1  Hey sir I have a question on software I am doi...   \n",
       "1      0           1  s the same guys name as the first but it will ...   \n",
       "2      0           1       thing that I have to do to allow me to do it   \n",
       "3      0           1  The identity field must be unique, but you can...   \n",
       "4      0           1                                     Ok thank u sir   \n",
       "\n",
       "      timestamp      type  \n",
       "0  4/4/11 14:40  Incoming  \n",
       "1  4/4/11 14:40  Incoming  \n",
       "2  4/4/11 14:40  Incoming  \n",
       "3  4/4/11 14:41  Outgoing  \n",
       "4  4/4/11 14:42  Incoming  "
      ]
     },
     "execution_count": 24,
     "metadata": {},
     "output_type": "execute_result"
    }
   ],
   "source": [
    "smsDF.head()"
   ]
  },
  {
   "cell_type": "markdown",
   "metadata": {},
   "source": [
    "We can now create a new column where the text messages are tokenized by words"
   ]
  },
  {
   "cell_type": "code",
   "execution_count": 25,
   "metadata": {},
   "outputs": [],
   "source": [
    "# create a tokenized column\n",
    "smsDF['tokenized'] = smsDF['message_body'].apply(lambda row: nltk.word_tokenize(row))"
   ]
  },
  {
   "cell_type": "markdown",
   "metadata": {},
   "source": [
    "Looking at the column of tokens we get the following:"
   ]
  },
  {
   "cell_type": "code",
   "execution_count": 26,
   "metadata": {},
   "outputs": [
    {
     "data": {
      "text/plain": [
       "0    [Hey, sir, I, have, a, question, on, software,...\n",
       "1    [s, the, same, guys, name, as, the, first, but...\n",
       "2    [thing, that, I, have, to, do, to, allow, me, ...\n",
       "3    [The, identity, field, must, be, unique, ,, bu...\n",
       "4                                  [Ok, thank, u, sir]\n",
       "Name: tokenized, dtype: object"
      ]
     },
     "execution_count": 26,
     "metadata": {},
     "output_type": "execute_result"
    }
   ],
   "source": [
    "smsDF['tokenized'].head()"
   ]
  },
  {
   "cell_type": "markdown",
   "metadata": {},
   "source": [
    "And now we create a column of bigrams on a per text message basis:"
   ]
  },
  {
   "cell_type": "code",
   "execution_count": 27,
   "metadata": {},
   "outputs": [],
   "source": [
    "smsDF['bigrams'] = smsDF['tokenized'].apply(lambda row: nltk.bigrams(row))\n",
    "# compile list of bigrams\n",
    "bigramsList = []\n",
    "for bigramObj in smsDF.bigrams:\n",
    "    for bigram in list(bigramObj):\n",
    "        bigramsList.append(bigram)"
   ]
  },
  {
   "cell_type": "markdown",
   "metadata": {},
   "source": [
    "Let's take a look at the first five elements of the bigrams"
   ]
  },
  {
   "cell_type": "code",
   "execution_count": 28,
   "metadata": {},
   "outputs": [
    {
     "name": "stdout",
     "output_type": "stream",
     "text": [
      "[('Hey', 'sir'), ('sir', 'I'), ('I', 'have'), ('have', 'a'), ('a', 'question')]\n"
     ]
    }
   ],
   "source": [
    "print(bigramsList[0:5])"
   ]
  },
  {
   "cell_type": "markdown",
   "metadata": {},
   "source": [
    "We see that we have a list of pairs of words. The first word is the condition while the second word is the outcome. Now, we create a conditional frequency distribution."
   ]
  },
  {
   "cell_type": "code",
   "execution_count": 29,
   "metadata": {},
   "outputs": [],
   "source": [
    "cfd = nltk.ConditionalFreqDist(bigramsList)"
   ]
  },
  {
   "cell_type": "markdown",
   "metadata": {},
   "source": [
    "We can plot the numer of occurrences of different word outcomes after inputing the word \"why\""
   ]
  },
  {
   "cell_type": "code",
   "execution_count": 30,
   "metadata": {},
   "outputs": [
    {
     "data": {
      "image/png": "[encoded data removed]",
      "text/plain": [
       "<matplotlib.figure.Figure at 0x7f97ad6f5320>"
      ]
     },
     "metadata": {},
     "output_type": "display_data"
    }
   ],
   "source": [
    "plt.figure(figsize=(8, 5))\n",
    "plt.rcParams.update({'font.size':15})\n",
    "cfd.plot(conditions=['why'])"
   ]
  },
  {
   "cell_type": "markdown",
   "metadata": {},
   "source": [
    "We see that the most common occurrence is the question mark \"?\" followed by the word \"I\" or \"i\",\"u\", and \"he.\" Looking at the probability distribution conditional on the word \"want\" we get that the most common outcome is \"to\" followed by \"me\"."
   ]
  },
  {
   "cell_type": "code",
   "execution_count": 31,
   "metadata": {},
   "outputs": [
    {
     "data": {
      "image/png": "[encoded data removed]",
      "text/plain": [
       "<matplotlib.figure.Figure at 0x7f97ad6f5a20>"
      ]
     },
     "metadata": {},
     "output_type": "display_data"
    }
   ],
   "source": [
    "plt.figure(figsize=(8, 5))\n",
    "cfd.plot(conditions=['want'])"
   ]
  },
  {
   "cell_type": "markdown",
   "metadata": {},
   "source": [
    "Next, we define a function to suggest the next word with the associated conditional probability, given the previous word:"
   ]
  },
  {
   "cell_type": "code",
   "execution_count": 32,
   "metadata": {},
   "outputs": [],
   "source": [
    "def suggestWord(previousWord, nSuggestions):\n",
    "    common=cfd[previousWord].most_common(n=nSuggestions)\n",
    "    n = min(len(cfd[previousWord]),nSuggestions)\n",
    "    for i in range(n):\n",
    "        word = common[i][0]\n",
    "        total = sum(cfd[previousWord].values())\n",
    "        counts = common[i][1]\n",
    "        print(word + ': ' + str(round(counts/total,2)))\n",
    "    "
   ]
  },
  {
   "cell_type": "markdown",
   "metadata": {},
   "source": [
    "Let's try obtaining suggestions for some common use cases:"
   ]
  },
  {
   "cell_type": "code",
   "execution_count": 33,
   "metadata": {},
   "outputs": [
    {
     "name": "stdout",
     "output_type": "stream",
     "text": [
      "a: 0.08\n",
      "it: 0.07\n",
      "in: 0.06\n",
      "there: 0.05\n",
      "off: 0.04\n"
     ]
    }
   ],
   "source": [
    "suggestWord('get',5)"
   ]
  },
  {
   "cell_type": "code",
   "execution_count": 34,
   "metadata": {},
   "outputs": [
    {
     "name": "stdout",
     "output_type": "stream",
     "text": [
      "to: 0.5\n",
      "it: 0.11\n",
      "and: 0.11\n"
     ]
    }
   ],
   "source": [
    "suggestWord('try',3)"
   ]
  },
  {
   "cell_type": "code",
   "execution_count": 35,
   "metadata": {},
   "outputs": [
    {
     "name": "stdout",
     "output_type": "stream",
     "text": [
      "over: 0.12\n",
      "out: 0.09\n",
      "by: 0.08\n",
      "up: 0.07\n"
     ]
    }
   ],
   "source": [
    "suggestWord('come',4)"
   ]
  },
  {
   "cell_type": "code",
   "execution_count": 36,
   "metadata": {},
   "outputs": [
    {
     "name": "stdout",
     "output_type": "stream",
     "text": [
      ".: 0.3\n",
      "return: 0.15\n",
      "send: 0.1\n"
     ]
    }
   ],
   "source": [
    "suggestWord('please',3)"
   ]
  },
  {
   "cell_type": "code",
   "execution_count": 37,
   "metadata": {},
   "outputs": [
    {
     "name": "stdout",
     "output_type": "stream",
     "text": [
      "be: 0.13\n",
      "like: 0.13\n",
      "you: 0.1\n",
      "have: 0.09\n"
     ]
    }
   ],
   "source": [
    "suggestWord('would',4)"
   ]
  },
  {
   "cell_type": "code",
   "execution_count": 38,
   "metadata": {},
   "outputs": [
    {
     "name": "stdout",
     "output_type": "stream",
     "text": [
      "you: 0.26\n",
      "u: 0.23\n",
      "and: 0.1\n",
      "your: 0.05\n"
     ]
    }
   ],
   "source": [
    "suggestWord('love',4)"
   ]
  },
  {
   "cell_type": "markdown",
   "metadata": {},
   "source": [
    "We can also try to predict a phrase by sugesting the next word, selecting the word with highest likelyhood, and using it as the condition for the following word, and so on in a loop. Here, we create function to output a suggested phrase:"
   ]
  },
  {
   "cell_type": "code",
   "execution_count": 39,
   "metadata": {},
   "outputs": [],
   "source": [
    "def suggestPhrase(cfdist, word, num=4):\n",
    "    for i in range(num):\n",
    "        print(word, end=' ')\n",
    "        word = cfdist[word].max()\n",
    "    print()"
   ]
  },
  {
   "cell_type": "markdown",
   "metadata": {},
   "source": [
    "Let's try it with the words \"I\" and \"please\""
   ]
  },
  {
   "cell_type": "code",
   "execution_count": 40,
   "metadata": {},
   "outputs": [
    {
     "name": "stdout",
     "output_type": "stream",
     "text": [
      "I am going to \n",
      "Please let me . \n"
     ]
    }
   ],
   "source": [
    "suggestPhrase(cfd,'I',num=4)\n",
    "suggestPhrase(cfd,'Please',num=4)"
   ]
  },
  {
   "cell_type": "markdown",
   "metadata": {},
   "source": [
    "Of course, this model is too crude for longer predictions, as we can see when we try to predict many words:"
   ]
  },
  {
   "cell_type": "code",
   "execution_count": 41,
   "metadata": {},
   "outputs": [
    {
     "name": "stdout",
     "output_type": "stream",
     "text": [
      "Please let me . I am going to get a \n"
     ]
    }
   ],
   "source": [
    "suggestPhrase(cfd,'Please',num=10)"
   ]
  },
  {
   "cell_type": "markdown",
   "metadata": {},
   "source": [
    "This concludes our simple next-word prediction model. We could improve on this simple system by collecting more data and possibly by using words that occur earlier in the sentence as conditions as well."
   ]
  }
 ],
 "metadata": {
  "kernelspec": {
   "display_name": "Python 3",
   "language": "python",
   "name": "python3"
  },
  "language_info": {
   "codemirror_mode": {
    "name": "ipython",
    "version": 3
   },
   "file_extension": ".py",
   "mimetype": "text/x-python",
   "name": "python",
   "nbconvert_exporter": "python",
   "pygments_lexer": "ipython3",
   "version": "3.6.3"
  }
 },
 "nbformat": 4,
 "nbformat_minor": 2
}
